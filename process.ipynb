{
 "cells": [
  {
   "cell_type": "code",
   "execution_count": null,
   "metadata": {},
   "outputs": [],
   "source": [
    "import json\n",
    "import requests\n"
   ]
  },
  {
   "cell_type": "code",
   "execution_count": null,
   "metadata": {},
   "outputs": [],
   "source": [
    "\n",
    "import time\n",
    "\n",
    "\n",
    "def fetch_all_data(jlpt):\n",
    "    all_data = []\n",
    "    page = 1\n",
    "    has_more_data = True\n",
    "\n",
    "    while has_more_data:\n",
    "        time.sleep(2)\n",
    "        url = f'https://jisho.org/api/v1/search/words?keyword=%23jlpt-n{jlpt}&page={page}'\n",
    "        response = requests.get(url)\n",
    "        data = response.json()\n",
    "        data = data['data']\n",
    "\n",
    "        if data:  # Assuming the data is inside the 'data' key\n",
    "            print(page)\n",
    "            items = [{\"word\": word['slug'], \n",
    "                      \"reading\": word['japanese'][0]['reading'], \n",
    "                      \"senses\": [sense.get('english_definitions', []) for sense in word['senses'] if not set(sense['parts_of_speech']).issubset({'Place', 'Wikipedia definition'})]} for word in data]\n",
    "            all_data.extend(items)\n",
    "            page += 1\n",
    "        else:\n",
    "            has_more_data = False\n",
    "\n",
    "    return all_data"
   ]
  },
  {
   "cell_type": "code",
   "execution_count": null,
   "metadata": {},
   "outputs": [],
   "source": [
    "# try:\n",
    "data = fetch_all_data(1)\n",
    "print(data[:5])\n",
    "# except Exception as e:\n",
    "#     print(f'Error: {e}')"
   ]
  },
  {
   "cell_type": "code",
   "execution_count": null,
   "metadata": {},
   "outputs": [],
   "source": [
    "with open('./n1.json', 'w', encoding='utf-8') as f:\n",
    "    f.write(json.dumps(data, ensure_ascii=False))"
   ]
  },
  {
   "cell_type": "code",
   "execution_count": null,
   "metadata": {},
   "outputs": [],
   "source": [
    "for i in range(2,6):\n",
    "    data = fetch_all_data(i)\n",
    "    with open(f'./n{i}.json', 'w', encoding='utf-8') as f:\n",
    "        f.write(json.dumps(data, ensure_ascii=False))"
   ]
  },
  {
   "cell_type": "code",
   "execution_count": null,
   "metadata": {},
   "outputs": [],
   "source": [
    "all_data = []\n",
    "page = 1\n",
    "has_more_data = True"
   ]
  },
  {
   "cell_type": "code",
   "execution_count": null,
   "metadata": {},
   "outputs": [],
   "source": [
    "url = 'https://jisho.org/api/v1/search/words?keyword=n1&page='"
   ]
  },
  {
   "cell_type": "code",
   "execution_count": null,
   "metadata": {},
   "outputs": [],
   "source": [
    "res1 = requests.get(url+\"1\")\n",
    "res2 = requests.get(url+\"2\")"
   ]
  },
  {
   "cell_type": "code",
   "execution_count": null,
   "metadata": {},
   "outputs": [],
   "source": [
    "data1 = res1.json()['data']\n",
    "data2 = res2.json()['data']"
   ]
  },
  {
   "cell_type": "code",
   "execution_count": null,
   "metadata": {},
   "outputs": [],
   "source": [
    "words = [word['slug'] for word in data1]"
   ]
  },
  {
   "cell_type": "code",
   "execution_count": null,
   "metadata": {},
   "outputs": [],
   "source": [
    "words = [{\"word\": word['slug'], \"reading\": word['japanese'][0]['reading'], \"senses\": [sense.get('english_definitions', [])\n",
    "                                                                                      for sense in word['senses'] if sense['parts_of_speech'][0] not in ['Place', 'Wikipedia definition']]} for word in data1]"
   ]
  },
  {
   "cell_type": "code",
   "execution_count": null,
   "metadata": {},
   "outputs": [],
   "source": [
    "with open('./n1.json', 'w', encoding='utf-8') as f:\n",
    "    f.write(json.dumps(data, ensure_ascii=False))"
   ]
  },
  {
   "cell_type": "code",
   "execution_count": null,
   "metadata": {},
   "outputs": [],
   "source": [
    "try:\n",
    "    data = fetch_all_data(5)\n",
    "    print(data[:5])\n",
    "except Exception as e:\n",
    "    print(f'Error: {e}')"
   ]
  },
  {
   "cell_type": "code",
   "execution_count": null,
   "metadata": {},
   "outputs": [],
   "source": [
    "with open('./n1page3.json', 'r', encoding='utf-8') as f:\n",
    "    file = f.read()"
   ]
  },
  {
   "cell_type": "code",
   "execution_count": null,
   "metadata": {},
   "outputs": [],
   "source": [
    "file = json.loads(file)"
   ]
  },
  {
   "cell_type": "code",
   "execution_count": null,
   "metadata": {},
   "outputs": [],
   "source": [
    "file_data = file['data']"
   ]
  },
  {
   "cell_type": "code",
   "execution_count": null,
   "metadata": {},
   "outputs": [],
   "source": [
    "for word in file_data:\n",
    "    for sense in word['senses']:\n",
    "        if not sense['parts_of_speech']:\n",
    "            print(sense)\n",
    "            print(\"no sense\")"
   ]
  },
  {
   "cell_type": "code",
   "execution_count": null,
   "metadata": {},
   "outputs": [],
   "source": [
    "set(['hi']) in set(['hi', 'hello'])"
   ]
  },
  {
   "cell_type": "code",
   "execution_count": null,
   "metadata": {},
   "outputs": [],
   "source": [
    "items = [{\"word\": word['slug'],\n",
    "          \"reading\": word['japanese'][0]['reading'],\n",
    "          \"senses\": [sense.get('english_definitions', []) for sense in word['senses'] if not set(sense['parts_of_speech']).issubset(set(['Place', 'Wikipedia definition']))]} for word in file_data]"
   ]
  }
 ],
 "metadata": {
  "kernelspec": {
   "display_name": "Python 3",
   "language": "python",
   "name": "python3"
  },
  "language_info": {
   "codemirror_mode": {
    "name": "ipython",
    "version": 3
   },
   "file_extension": ".py",
   "mimetype": "text/x-python",
   "name": "python",
   "nbconvert_exporter": "python",
   "pygments_lexer": "ipython3",
   "version": "3.12.1"
  }
 },
 "nbformat": 4,
 "nbformat_minor": 2
}
